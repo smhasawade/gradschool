{
 "cells": [
  {
   "cell_type": "code",
   "execution_count": 146,
   "metadata": {},
   "outputs": [
    {
     "name": "stdout",
     "output_type": "stream",
     "text": [
      "                                                name    category  playtime  \\\n",
      "0                                           Agricola    Economic       >90   \n",
      "1                                        Puerto Rico    Economic       >90   \n",
      "2                                        Small World    Fighting  (60, 90]   \n",
      "3                                          Codenames   Deduction      <=30   \n",
      "4                                         Power Grid    Economic       >90   \n",
      "..                                               ...         ...       ...   \n",
      "239                                         Decrypto   Deduction  (30, 60]   \n",
      "240                       Agricola (Revised Edition)    Economic       >90   \n",
      "241                              Chronicles of Crime   Deduction  (60, 90]   \n",
      "242                                         Just One  Party Game      <=30   \n",
      "243  The Lord of the Rings: Journeys in Middle-earth    Fighting       >90   \n",
      "\n",
      "     playtime_num  avg_rating  num_ratings  min_players  \n",
      "0             150     7.98857        61557            1  \n",
      "1             150     8.03590        61157            3  \n",
      "2              80     7.29949        59211            2  \n",
      "3              15     7.71148        62563            2  \n",
      "4             120     7.89004        54420            2  \n",
      "..            ...         ...          ...          ...  \n",
      "239            45     7.80797         9659            3  \n",
      "240           120     8.12485         7982            1  \n",
      "241            90     8.03759        11684            1  \n",
      "242            20     7.57741         8979            3  \n",
      "243           120     8.40100         6688            1  \n",
      "\n",
      "[244 rows x 7 columns]\n",
      "   supported    category  count_category  avg_rating  avg_playtime  \\\n",
      "0          0    Bluffing              47        7.12         68.19   \n",
      "1          0   Deduction              19        7.28         55.89   \n",
      "2          0    Economic              65        7.49        105.92   \n",
      "3          0    Fighting              48        7.40        103.75   \n",
      "4          0  Party Game              17        6.54         36.18   \n",
      "5          1    Bluffing               0        0.00          0.00   \n",
      "6          1   Deduction               3        7.84        110.00   \n",
      "7          1    Economic              23        7.95        126.52   \n",
      "8          1    Fighting              21        7.52        113.33   \n",
      "9          1  Party Game               1        5.58         20.00   \n",
      "\n",
      "                                            rep_game  \n",
      "0                                           Citadels  \n",
      "1                                          Codenames  \n",
      "2                                        Puerto Rico  \n",
      "3                                        Small World  \n",
      "4                                              Dixit  \n",
      "5                                                  0  \n",
      "6  Sherlock Holmes Consulting Detective: The Tham...  \n",
      "7                                           Agricola  \n",
      "8                                         Gloomhaven  \n",
      "9                                              Jenga  \n"
     ]
    },
    {
     "name": "stderr",
     "output_type": "stream",
     "text": [
      "<ipython-input-146-c6abac3edb35>:20: SettingWithCopyWarning: \n",
      "A value is trying to be set on a copy of a slice from a DataFrame\n",
      "\n",
      "See the caveats in the documentation: https://pandas.pydata.org/pandas-docs/stable/user_guide/indexing.html#returning-a-view-versus-a-copy\n",
      "  df['rep_game'][index] = org_df['name'][i]\n"
     ]
    }
   ],
   "source": [
    "import pandas as pd\n",
    "import numpy as np\n",
    "\n",
    "df = pd.read_csv('popular_board_game.csv')\n",
    "org_df = df\n",
    "print(df)\n",
    "\n",
    "df['supported'] = df['min_players'].apply(lambda x:1 if x==1 else 0)\n",
    "#df = df.groupby(['supported','category']).count()\n",
    "df = df.groupby(['supported','category']).agg(count_category=('category', 'size'), avg_rating=('avg_rating', 'mean'), max_rating=('num_ratings', 'max'), avg_playtime=('playtime_num', 'mean')) \\\n",
    "    .unstack(fill_value=0).stack()\\\n",
    "    .reset_index()\n",
    "df[['avg_rating', 'avg_playtime']] = df[['avg_rating', 'avg_playtime']].round(decimals = 2)\n",
    "\n",
    "ratings = df['max_rating'].values.tolist()\n",
    "df['rep_game'] = \"\"\n",
    "for i in range(org_df.shape[0]):\n",
    "    if org_df['num_ratings'][i] in ratings:\n",
    "        index = ratings.index(org_df['num_ratings'][i])\n",
    "        df['rep_game'][index] = org_df['name'][i] \n",
    "        \n",
    "df = df.drop(['max_rating'], axis=1)\n",
    "df[[\"rep_game\"]] = df[[\"rep_game\"]].replace(\"\", 0)\n",
    "\n",
    "print(df)\n",
    "df.to_csv('table.csv', index=False,encoding='utf-8')"
   ]
  }
 ],
 "metadata": {
  "kernelspec": {
   "display_name": "Python 3",
   "language": "python",
   "name": "python3"
  },
  "language_info": {
   "codemirror_mode": {
    "name": "ipython",
    "version": 3
   },
   "file_extension": ".py",
   "mimetype": "text/x-python",
   "name": "python",
   "nbconvert_exporter": "python",
   "pygments_lexer": "ipython3",
   "version": "3.8.3"
  }
 },
 "nbformat": 4,
 "nbformat_minor": 4
}
